{
 "cells": [
  {
   "cell_type": "markdown",
   "id": "da8cf84b",
   "metadata": {
    "cellUniqueIdByVincent": "becc7"
   },
   "source": [
    "# Alphanumeric Character Recognition using CNNs\n",
    "\n",
    "**Project Title:** Alphanumeric Character Recognition using Convolutional Neural Networks\n",
    "(0-9, A-Z).\n",
    "\n",
    "## 1. Environment Setup and Library Imports"
   ]
  },
  {
   "cell_type": "code",
   "execution_count": 1,
   "id": "bfa70128",
   "metadata": {
    "cellUniqueIdByVincent": "87fac"
   },
   "outputs": [
    {
     "name": "stderr",
     "output_type": "stream",
     "text": [
      "2025-06-01 06:16:45.138142: I tensorflow/core/util/port.cc:153] oneDNN custom operations are on. You may see slightly different numerical results due to floating-point round-off errors from different computation orders. To turn them off, set the environment variable `TF_ENABLE_ONEDNN_OPTS=0`.\n",
      "2025-06-01 06:16:45.271299: E external/local_xla/xla/stream_executor/cuda/cuda_fft.cc:467] Unable to register cuFFT factory: Attempting to register factory for plugin cuFFT when one has already been registered\n",
      "WARNING: All log messages before absl::InitializeLog() is called are written to STDERR\n",
      "E0000 00:00:1748747805.327518   48407 cuda_dnn.cc:8579] Unable to register cuDNN factory: Attempting to register factory for plugin cuDNN when one has already been registered\n",
      "E0000 00:00:1748747805.344648   48407 cuda_blas.cc:1407] Unable to register cuBLAS factory: Attempting to register factory for plugin cuBLAS when one has already been registered\n",
      "W0000 00:00:1748747805.457573   48407 computation_placer.cc:177] computation placer already registered. Please check linkage and avoid linking the same target more than once.\n",
      "W0000 00:00:1748747805.457598   48407 computation_placer.cc:177] computation placer already registered. Please check linkage and avoid linking the same target more than once.\n",
      "W0000 00:00:1748747805.457600   48407 computation_placer.cc:177] computation placer already registered. Please check linkage and avoid linking the same target more than once.\n",
      "W0000 00:00:1748747805.457601   48407 computation_placer.cc:177] computation placer already registered. Please check linkage and avoid linking the same target more than once.\n",
      "2025-06-01 06:16:45.469750: I tensorflow/core/platform/cpu_feature_guard.cc:210] This TensorFlow binary is optimized to use available CPU instructions in performance-critical operations.\n",
      "To enable the following instructions: AVX2 AVX512F AVX512_VNNI FMA, in other operations, rebuild TensorFlow with the appropriate compiler flags.\n"
     ]
    },
    {
     "name": "stdout",
     "output_type": "stream",
     "text": [
      "TensorFlow version: 2.19.0\n",
      "GPU Available: [PhysicalDevice(name='/physical_device:GPU:0', device_type='GPU')]\n",
      "Keras version: 3.10.0\n"
     ]
    }
   ],
   "source": [
    "# Import necessary libraries\n",
    "import tensorflow as tf\n",
    "from tensorflow import keras\n",
    "from tensorflow.keras import layers\n",
    "import numpy as np\n",
    "import matplotlib.pyplot as plt\n",
    "from sklearn.metrics import confusion_matrix, classification_report\n",
    "import seaborn as sns\n",
    "from scipy.stats import pearsonr\n",
    "import warnings\n",
    "warnings.filterwarnings('ignore')\n",
    "\n",
    "# Check TensorFlow version and GPU availability\n",
    "print(f\"TensorFlow version: {tf.__version__}\")\n",
    "print(f\"GPU Available: {tf.config.list_physical_devices('GPU')}\")\n",
    "print(f\"Keras version: {keras.__version__}\")\n",
    "\n",
    "# Set random seeds for reproducibility\n",
    "tf.random.set_seed(42)\n",
    "np.random.seed(42)"
   ]
  },
  {
   "cell_type": "markdown",
   "id": "209ab607",
   "metadata": {
    "cellUniqueIdByVincent": "2cb10"
   },
   "source": [
    "## 2. Data Loading and Preparation\n",
    "\n",
    "According to the requirements, we need to use the EMNIST (Extended MNIST) dataset which contains both digits and letters. We'll use the 'byclass' split which includes:\n",
    "- Digits: 0-9 (10 classes)\n",
    "- Uppercase letters: A-Z (26 classes) \n",
    "- Lowercase letters: a-z (26 classes)\n",
    "- Total: 62 classes\n",
    "\n",
    "The EMNIST dataset provides 28x28 grayscale images similar to MNIST but with a much larger character set."
   ]
  },
  {
   "cell_type": "code",
   "execution_count": 2,
   "id": "9b959db2",
   "metadata": {
    "cellUniqueIdByVincent": "5b99b"
   },
   "outputs": [
    {
     "name": "stdout",
     "output_type": "stream",
     "text": [
      "Loading EMNIST dataset from local path...\n",
      "Files in dataset directory: ['emnist-byclass-train.csv', 'emnist-letters-mapping.txt', 'emnist-bymerge-mapping.txt', 'emnist-digits-mapping.txt', 'emnist-mnist-mapping.txt', 'emnist-byclass-test.csv', 'emnist_source_files', 'emnist-balanced-mapping.txt', 'emnist-digits-train.csv', 'emnist-byclass-mapping.txt', 'emnist-mnist-test.csv', 'emnist-mnist-train.csv', 'emnist-bymerge-test.csv', 'emnist-letters-test.csv', 'emnist-bymerge-train.csv', 'emnist-balanced-test.csv', 'emnist-balanced-train.csv', 'emnist-digits-test.csv', 'emnist-letters-train.csv']\n",
      "Found training file: emnist-byclass-train.csv\n",
      "Found test file: emnist-byclass-test.csv\n",
      "Training data shape: (533992, 785)\n",
      "Test data shape: (89263, 785)\n",
      "\n",
      "EMNIST ByClass Dataset loaded successfully!\n",
      "Training data shape: (533992, 28, 28)\n",
      "Training labels shape: (533992,)\n",
      "Test data shape: (89263, 28, 28)\n",
      "Test labels shape: (89263,)\n",
      "Number of classes: 36\n",
      "Label range: 0 to 35\n",
      "Class mapping: 0-9 (digits), 10-35 (A-Z)\n",
      "Sample classes: ['0', '1', '2', '3', '4', '5', '6', '7', '8', '9']...['Q', 'R', 'S', 'T', 'U', 'V', 'W', 'X', 'Y', 'Z']\n"
     ]
    }
   ],
   "source": [
    "# Load EMNIST dataset from local path\n",
    "import os\n",
    "import pandas as pd\n",
    "import numpy as np\n",
    "\n",
    "print(\"Loading EMNIST dataset from local path...\")\n",
    "\n",
    "# Path to the EMNIST dataset\n",
    "dataset_path = \"/home/omar/.cache/kagglehub/datasets/crawford/emnist/versions/3\"\n",
    "\n",
    "try:\n",
    "    # List files in the dataset directory\n",
    "    files = os.listdir(dataset_path)\n",
    "    print(f\"Files in dataset directory: {files}\")\n",
    "    \n",
    "    # Look for EMNIST ByClass files (62 classes: 0-9, A-Z, a-z)\n",
    "    train_file = None\n",
    "    test_file = None\n",
    "    \n",
    "    for file in files:\n",
    "        if 'byclass' in file.lower() and 'train' in file.lower():\n",
    "            train_file = file\n",
    "        elif 'byclass' in file.lower() and 'test' in file.lower():\n",
    "            test_file = file\n",
    "    \n",
    "    if train_file and test_file:\n",
    "        print(f\"Found training file: {train_file}\")\n",
    "        print(f\"Found test file: {test_file}\")\n",
    "        \n",
    "        # Load the CSV files\n",
    "        train_data = pd.read_csv(os.path.join(dataset_path, train_file))\n",
    "        # Filter to include only classes 0-35 (digits 0-9 and uppercase A-Z)\n",
    "        train_data = train_data[train_data.iloc[:, 0].isin(np.arange(0, 36))]\n",
    "        test_data = pd.read_csv(os.path.join(dataset_path, test_file))\n",
    "        test_data = test_data[test_data.iloc[:, 0].isin(np.arange(0, 36))]\n",
    "        \n",
    "        print(f\"Training data shape: {train_data.shape}\")\n",
    "        print(f\"Test data shape: {test_data.shape}\")\n",
    "        \n",
    "        # Extract features and labels\n",
    "        # First column is label, rest are pixel values\n",
    "        x_train = train_data.iloc[:, 1:].values\n",
    "        y_train = train_data.iloc[:, 0].values\n",
    "        x_test = test_data.iloc[:, 1:].values\n",
    "        y_test = test_data.iloc[:, 0].values\n",
    "        \n",
    "        # Reshape from flat arrays to 28x28 images\n",
    "        x_train = x_train.reshape(-1, 28, 28)\n",
    "        x_test = x_test.reshape(-1, 28, 28)\n",
    "        \n",
    "        # EMNIST images need to be rotated and flipped to match standard orientation\n",
    "        x_train = np.rot90(x_train, k=3, axes=(1, 2))  # Rotate 270 degrees\n",
    "        x_test = np.rot90(x_test, k=3, axes=(1, 2))    # Rotate 270 degrees\n",
    "        x_train = np.flip(x_train, axis=2)  # Flip horizontally\n",
    "        x_test = np.flip(x_test, axis=2)    # Flip horizontally\n",
    "        \n",
    "        num_classes = len(np.unique(y_train))\n",
    "        \n",
    "        print(f\"\\nEMNIST ByClass Dataset loaded successfully!\")\n",
    "        print(f\"Training data shape: {x_train.shape}\")\n",
    "        print(f\"Training labels shape: {y_train.shape}\")\n",
    "        print(f\"Test data shape: {x_test.shape}\")\n",
    "        print(f\"Test labels shape: {y_test.shape}\")\n",
    "        print(f\"Number of classes: {num_classes}\")\n",
    "        print(f\"Label range: {np.min(y_train)} to {np.max(y_train)}\")\n",
    "        \n",
    "        # Create class mapping\n",
    "        class_names = []\n",
    "        # Classes 0-9: Digits\n",
    "        class_names.extend([str(i) for i in range(10)])\n",
    "        # Classes 10-35: Uppercase letters A-Z\n",
    "        class_names.extend([chr(ord('A') + i) for i in range(26)])\n",
    "        \n",
    "        print(f\"Class mapping: 0-9 (digits), 10-35 (A-Z)\")\n",
    "        print(f\"Sample classes: {class_names[:10]}...{class_names[-10:]}\")\n",
    "        \n",
    "    else:\n",
    "        raise FileNotFoundError(\"Could not find ByClass train/test files\")\n",
    "\n",
    "except Exception as e:\n",
    "    print(f\"Error loading dataset: {e}\")\n",
    "    raise e"
   ]
  },
  {
   "cell_type": "markdown",
   "id": "fc3cb531",
   "metadata": {
    "cellUniqueIdByVincent": "e4875"
   },
   "source": [
    "## 3. Image Preprocessing\n",
    "\n",
    "According to the requirements, we need to implement the following preprocessing steps:\n",
    "- Grayscale conversion (already done for MNIST)\n",
    "- Normalization: Scale pixel values to [0, 1] range\n",
    "- Reshaping for CNN input: Add channel dimension\n",
    "- Label encoding: Convert to one-hot encoded vectors\n",
    "\n",
    "The preprocessing formula for normalization: I_norm = I/255"
   ]
  },
  {
   "cell_type": "code",
   "execution_count": 3,
   "id": "f1be2157",
   "metadata": {
    "cellUniqueIdByVincent": "34bdd"
   },
   "outputs": [
    {
     "name": "stdout",
     "output_type": "stream",
     "text": [
      "Original data shapes:\n",
      "x_train: (533992, 28, 28), x_test: (89263, 28, 28)\n",
      "y_train: (533992,), y_test: (89263,)\n"
     ]
    },
    {
     "name": "stdout",
     "output_type": "stream",
     "text": [
      "Pixel value range: 0 to 255\n",
      "\n",
      "After normalization:\n",
      "Pixel value range: 0.0 to 1.0\n",
      "\n",
      "After reshaping:\n",
      "x_train: (533992, 28, 28, 1), x_test: (89263, 28, 28, 1)\n",
      "\n",
      "After one-hot encoding:\n",
      "y_train: (533992, 36), y_test: (89263, 36)\n",
      "Example label before: 6\n",
      "Example label after: [0. 0. 0. 0. 0. 0. 1. 0. 0. 0. 0. 0. 0. 0. 0. 0. 0. 0. 0. 0. 0. 0. 0. 0.\n",
      " 0. 0. 0. 0. 0. 0. 0. 0. 0. 0. 0. 0.]\n"
     ]
    }
   ],
   "source": [
    "# Image Preprocessing\n",
    "print(\"Original data shapes:\")\n",
    "print(f\"x_train: {x_train.shape}, x_test: {x_test.shape}\")\n",
    "print(f\"y_train: {y_train.shape}, y_test: {y_test.shape}\")\n",
    "print(f\"Pixel value range: {x_train.min()} to {x_train.max()}\")\n",
    "\n",
    "# 1. Normalization: Scale pixel values to [0, 1] range\n",
    "# Formula: I_norm = I/255\n",
    "x_train_norm = x_train.astype('float32') / 255.0\n",
    "x_test_norm = x_test.astype('float32') / 255.0\n",
    "\n",
    "print(f\"\\nAfter normalization:\")\n",
    "print(f\"Pixel value range: {x_train_norm.min()} to {x_train_norm.max()}\")\n",
    "\n",
    "# 2. Reshaping for CNN input: Add channel dimension\n",
    "# From (28, 28) to (28, 28, 1)\n",
    "x_train_reshaped = x_train_norm.reshape(x_train_norm.shape[0], 28, 28, 1)\n",
    "x_test_reshaped = x_test_norm.reshape(x_test_norm.shape[0], 28, 28, 1)\n",
    "\n",
    "print(f\"\\nAfter reshaping:\")\n",
    "print(f\"x_train: {x_train_reshaped.shape}, x_test: {x_test_reshaped.shape}\")\n",
    "\n",
    "# 3. Label encoding: Convert to one-hot encoded vectors\n",
    "y_train_onehot = keras.utils.to_categorical(y_train, num_classes)\n",
    "y_test_onehot = keras.utils.to_categorical(y_test, num_classes)\n",
    "\n",
    "print(f\"\\nAfter one-hot encoding:\")\n",
    "print(f\"y_train: {y_train_onehot.shape}, y_test: {y_test_onehot.shape}\")\n",
    "print(f\"Example label before: {y_train[0]}\")\n",
    "print(f\"Example label after: {y_train_onehot[0]}\")\n",
    "\n",
    "# Store preprocessed data\n",
    "x_train_processed = x_train_reshaped\n",
    "x_test_processed = x_test_reshaped\n",
    "y_train_processed = y_train_onehot\n",
    "y_test_processed = y_test_onehot"
   ]
  },
  {
   "cell_type": "code",
   "execution_count": 4,
   "id": "5f09cadd",
   "metadata": {
    "cellUniqueIdByVincent": "6b152"
   },
   "outputs": [
    {
     "data": {
      "image/png": "[encoded data removed]",
      "text/plain": [
       "<Figure size 1200x800 with 20 Axes>"
      ]
     },
     "metadata": {},
     "output_type": "display_data"
    },
    {
     "data": {
      "image/png": "[encoded data removed]",
      "text/plain": [
       "<Figure size 1000x600 with 1 Axes>"
      ]
     },
     "metadata": {},
     "output_type": "display_data"
    }
   ],
   "source": [
    "# Visualize sample images from the dataset\n",
    "plt.figure(figsize=(12, 8))\n",
    "for i in range(20):\n",
    "    plt.subplot(4, 5, i + 1)\n",
    "    plt.imshow(x_train[i], cmap='gray')\n",
    "    plt.title(f'Label: {y_train[i]}')\n",
    "    plt.axis('off')\n",
    "\n",
    "plt.suptitle('Sample Images from MNIST Dataset', fontsize=16)\n",
    "plt.tight_layout()\n",
    "plt.show()\n",
    "\n",
    "# Show distribution of classes\n",
    "plt.figure(figsize=(10, 6))\n",
    "unique, counts = np.unique(y_train, return_counts=True)\n",
    "plt.bar(unique, counts)\n",
    "plt.title('Distribution of Classes in Training Set')\n",
    "plt.xlabel('Digit Class')\n",
    "plt.ylabel('Number of Samples')\n",
    "plt.xticks(unique)\n",
    "plt.grid(True, alpha=0.3)\n",
    "plt.show()"
   ]
  },
  {
   "cell_type": "markdown",
   "id": "52f4199a",
   "metadata": {
    "cellUniqueIdByVincent": "15f07"
   },
   "source": [
    "## 4. CNN Architecture for Feature Extraction\n",
    "\n",
    "According to the requirements, we need to implement a CNN with the following architecture:\n",
    "- **Input Layer:** Shape (28, 28, 1) for grayscale images\n",
    "- **Layer 1:** Conv2D with 32 filters, 3x3 kernel, ReLU activation\n",
    "- **Layer 2:** MaxPooling2D with 2x2 pool size\n",
    "- **Layer 3:** Conv2D with 64 filters, 3x3 kernel, ReLU activation  \n",
    "- **Layer 4:** MaxPooling2D with 2x2 pool size\n",
    "- **Layer 5:** Flatten layer (this will serve as feature extractor)\n",
    "- **Layer 6:** Dense layer with 128 units, ReLU activation\n",
    "- **Layer 7:** Output Dense layer with num_classes units, Softmax activation\n",
    "\n",
    "The Flatten layer output will be used as feature vectors for correlation-based classification."
   ]
  },
  {
   "cell_type": "code",
   "execution_count": 5,
   "id": "d6d52bce",
   "metadata": {
    "cellUniqueIdByVincent": "3d5d1"
   },
   "outputs": [
    {
     "name": "stderr",
     "output_type": "stream",
     "text": [
      "I0000 00:00:1748747837.644974   48407 gpu_device.cc:2019] Created device /job:localhost/replica:0/task:0/device:GPU:0 with 2153 MB memory:  -> device: 0, name: NVIDIA GeForce RTX 3050 Laptop GPU, pci bus id: 0000:01:00.0, compute capability: 8.6\n"
     ]
    },
    {
     "name": "stdout",
     "output_type": "stream",
     "text": [
      "CNN Model Architecture for Extended Alphanumeric Dataset:\n",
      "Number of classes: 36\n"
     ]
    },
    {
     "data": {
      "text/html": [
       "<pre style=\"white-space:pre;overflow-x:auto;line-height:normal;font-family:Menlo,'DejaVu Sans Mono',consolas,'Courier New',monospace\"><span style=\"font-weight: bold\">Model: \"sequential\"</span>\n",
       "</pre>\n"
      ],
      "text/plain": [
       "\u001b[1mModel: \"sequential\"\u001b[0m\n"
      ]
     },
     "metadata": {},
     "output_type": "display_data"
    },
    {
     "data": {
      "text/html": [
       "<pre style=\"white-space:pre;overflow-x:auto;line-height:normal;font-family:Menlo,'DejaVu Sans Mono',consolas,'Courier New',monospace\">┏━━━━━━━━━━━━━━━━━━━━━━━━━━━━━━━━━┳━━━━━━━━━━━━━━━━━━━━━━━━┳━━━━━━━━━━━━━━━┓\n",
       "┃<span style=\"font-weight: bold\"> Layer (type)                    </span>┃<span style=\"font-weight: bold\"> Output Shape           </span>┃<span style=\"font-weight: bold\">       Param # </span>┃\n",
       "┡━━━━━━━━━━━━━━━━━━━━━━━━━━━━━━━━━╇━━━━━━━━━━━━━━━━━━━━━━━━╇━━━━━━━━━━━━━━━┩\n",
       "│ conv2d_1 (<span style=\"color: #0087ff; text-decoration-color: #0087ff\">Conv2D</span>)               │ (<span style=\"color: #00d7ff; text-decoration-color: #00d7ff\">None</span>, <span style=\"color: #00af00; text-decoration-color: #00af00\">26</span>, <span style=\"color: #00af00; text-decoration-color: #00af00\">26</span>, <span style=\"color: #00af00; text-decoration-color: #00af00\">32</span>)     │           <span style=\"color: #00af00; text-decoration-color: #00af00\">320</span> │\n",
       "├─────────────────────────────────┼────────────────────────┼───────────────┤\n",
       "│ maxpool2d_1 (<span style=\"color: #0087ff; text-decoration-color: #0087ff\">MaxPooling2D</span>)      │ (<span style=\"color: #00d7ff; text-decoration-color: #00d7ff\">None</span>, <span style=\"color: #00af00; text-decoration-color: #00af00\">13</span>, <span style=\"color: #00af00; text-decoration-color: #00af00\">13</span>, <span style=\"color: #00af00; text-decoration-color: #00af00\">32</span>)     │             <span style=\"color: #00af00; text-decoration-color: #00af00\">0</span> │\n",
       "├─────────────────────────────────┼────────────────────────┼───────────────┤\n",
       "│ conv2d_2 (<span style=\"color: #0087ff; text-decoration-color: #0087ff\">Conv2D</span>)               │ (<span style=\"color: #00d7ff; text-decoration-color: #00d7ff\">None</span>, <span style=\"color: #00af00; text-decoration-color: #00af00\">11</span>, <span style=\"color: #00af00; text-decoration-color: #00af00\">11</span>, <span style=\"color: #00af00; text-decoration-color: #00af00\">64</span>)     │        <span style=\"color: #00af00; text-decoration-color: #00af00\">18,496</span> │\n",
       "├─────────────────────────────────┼────────────────────────┼───────────────┤\n",
       "│ maxpool2d_2 (<span style=\"color: #0087ff; text-decoration-color: #0087ff\">MaxPooling2D</span>)      │ (<span style=\"color: #00d7ff; text-decoration-color: #00d7ff\">None</span>, <span style=\"color: #00af00; text-decoration-color: #00af00\">5</span>, <span style=\"color: #00af00; text-decoration-color: #00af00\">5</span>, <span style=\"color: #00af00; text-decoration-color: #00af00\">64</span>)       │             <span style=\"color: #00af00; text-decoration-color: #00af00\">0</span> │\n",
       "├─────────────────────────────────┼────────────────────────┼───────────────┤\n",
       "│ flatten (<span style=\"color: #0087ff; text-decoration-color: #0087ff\">Flatten</span>)               │ (<span style=\"color: #00d7ff; text-decoration-color: #00d7ff\">None</span>, <span style=\"color: #00af00; text-decoration-color: #00af00\">1600</span>)           │             <span style=\"color: #00af00; text-decoration-color: #00af00\">0</span> │\n",
       "├─────────────────────────────────┼────────────────────────┼───────────────┤\n",
       "│ dense_1 (<span style=\"color: #0087ff; text-decoration-color: #0087ff\">Dense</span>)                 │ (<span style=\"color: #00d7ff; text-decoration-color: #00d7ff\">None</span>, <span style=\"color: #00af00; text-decoration-color: #00af00\">128</span>)            │       <span style=\"color: #00af00; text-decoration-color: #00af00\">204,928</span> │\n",
       "├─────────────────────────────────┼────────────────────────┼───────────────┤\n",
       "│ output (<span style=\"color: #0087ff; text-decoration-color: #0087ff\">Dense</span>)                  │ (<span style=\"color: #00d7ff; text-decoration-color: #00d7ff\">None</span>, <span style=\"color: #00af00; text-decoration-color: #00af00\">36</span>)             │         <span style=\"color: #00af00; text-decoration-color: #00af00\">4,644</span> │\n",
       "└─────────────────────────────────┴────────────────────────┴───────────────┘\n",
       "</pre>\n"
      ],
      "text/plain": [
       "┏━━━━━━━━━━━━━━━━━━━━━━━━━━━━━━━━━┳━━━━━━━━━━━━━━━━━━━━━━━━┳━━━━━━━━━━━━━━━┓\n",
       "┃\u001b[1m \u001b[0m\u001b[1mLayer (type)                   \u001b[0m\u001b[1m \u001b[0m┃\u001b[1m \u001b[0m\u001b[1mOutput Shape          \u001b[0m\u001b[1m \u001b[0m┃\u001b[1m \u001b[0m\u001b[1m      Param #\u001b[0m\u001b[1m \u001b[0m┃\n",
       "┡━━━━━━━━━━━━━━━━━━━━━━━━━━━━━━━━━╇━━━━━━━━━━━━━━━━━━━━━━━━╇━━━━━━━━━━━━━━━┩\n",
       "│ conv2d_1 (\u001b[38;5;33mConv2D\u001b[0m)               │ (\u001b[38;5;45mNone\u001b[0m, \u001b[38;5;34m26\u001b[0m, \u001b[38;5;34m26\u001b[0m, \u001b[38;5;34m32\u001b[0m)     │           \u001b[38;5;34m320\u001b[0m │\n",
       "├─────────────────────────────────┼────────────────────────┼───────────────┤\n",
       "│ maxpool2d_1 (\u001b[38;5;33mMaxPooling2D\u001b[0m)      │ (\u001b[38;5;45mNone\u001b[0m, \u001b[38;5;34m13\u001b[0m, \u001b[38;5;34m13\u001b[0m, \u001b[38;5;34m32\u001b[0m)     │             \u001b[38;5;34m0\u001b[0m │\n",
       "├─────────────────────────────────┼────────────────────────┼───────────────┤\n",
       "│ conv2d_2 (\u001b[38;5;33mConv2D\u001b[0m)               │ (\u001b[38;5;45mNone\u001b[0m, \u001b[38;5;34m11\u001b[0m, \u001b[38;5;34m11\u001b[0m, \u001b[38;5;34m64\u001b[0m)     │        \u001b[38;5;34m18,496\u001b[0m │\n",
       "├─────────────────────────────────┼────────────────────────┼───────────────┤\n",
       "│ maxpool2d_2 (\u001b[38;5;33mMaxPooling2D\u001b[0m)      │ (\u001b[38;5;45mNone\u001b[0m, \u001b[38;5;34m5\u001b[0m, \u001b[38;5;34m5\u001b[0m, \u001b[38;5;34m64\u001b[0m)       │             \u001b[38;5;34m0\u001b[0m │\n",
       "├─────────────────────────────────┼────────────────────────┼───────────────┤\n",
       "│ flatten (\u001b[38;5;33mFlatten\u001b[0m)               │ (\u001b[38;5;45mNone\u001b[0m, \u001b[38;5;34m1600\u001b[0m)           │             \u001b[38;5;34m0\u001b[0m │\n",
       "├─────────────────────────────────┼────────────────────────┼───────────────┤\n",
       "│ dense_1 (\u001b[38;5;33mDense\u001b[0m)                 │ (\u001b[38;5;45mNone\u001b[0m, \u001b[38;5;34m128\u001b[0m)            │       \u001b[38;5;34m204,928\u001b[0m │\n",
       "├─────────────────────────────────┼────────────────────────┼───────────────┤\n",
       "│ output (\u001b[38;5;33mDense\u001b[0m)                  │ (\u001b[38;5;45mNone\u001b[0m, \u001b[38;5;34m36\u001b[0m)             │         \u001b[38;5;34m4,644\u001b[0m │\n",
       "└─────────────────────────────────┴────────────────────────┴───────────────┘\n"
      ]
     },
     "metadata": {},
     "output_type": "display_data"
    },
    {
     "data": {
      "text/html": [
       "<pre style=\"white-space:pre;overflow-x:auto;line-height:normal;font-family:Menlo,'DejaVu Sans Mono',consolas,'Courier New',monospace\"><span style=\"font-weight: bold\"> Total params: </span><span style=\"color: #00af00; text-decoration-color: #00af00\">228,388</span> (892.14 KB)\n",
       "</pre>\n"
      ],
      "text/plain": [
       "\u001b[1m Total params: \u001b[0m\u001b[38;5;34m228,388\u001b[0m (892.14 KB)\n"
      ]
     },
     "metadata": {},
     "output_type": "display_data"
    },
    {
     "data": {
      "text/html": [
       "<pre style=\"white-space:pre;overflow-x:auto;line-height:normal;font-family:Menlo,'DejaVu Sans Mono',consolas,'Courier New',monospace\"><span style=\"font-weight: bold\"> Trainable params: </span><span style=\"color: #00af00; text-decoration-color: #00af00\">228,388</span> (892.14 KB)\n",
       "</pre>\n"
      ],
      "text/plain": [
       "\u001b[1m Trainable params: \u001b[0m\u001b[38;5;34m228,388\u001b[0m (892.14 KB)\n"
      ]
     },
     "metadata": {},
     "output_type": "display_data"
    },
    {
     "data": {
      "text/html": [
       "<pre style=\"white-space:pre;overflow-x:auto;line-height:normal;font-family:Menlo,'DejaVu Sans Mono',consolas,'Courier New',monospace\"><span style=\"font-weight: bold\"> Non-trainable params: </span><span style=\"color: #00af00; text-decoration-color: #00af00\">0</span> (0.00 B)\n",
       "</pre>\n"
      ],
      "text/plain": [
       "\u001b[1m Non-trainable params: \u001b[0m\u001b[38;5;34m0\u001b[0m (0.00 B)\n"
      ]
     },
     "metadata": {},
     "output_type": "display_data"
    },
    {
     "name": "stdout",
     "output_type": "stream",
     "text": [
      "\n",
      "Class Mapping:\n",
      "0-9: Digits\n",
      "10-35: Uppercase letters (A-Z)\n",
      "Total classes: 36\n"
     ]
    }
   ],
   "source": [
    "# Define CNN Architecture for Extended Alphanumeric Dataset\n",
    "def create_cnn_model(input_shape=(28, 28, 1), num_classes=62):\n",
    "    \"\"\"\n",
    "    Create CNN model according to requirements specifications\n",
    "    Updated for 62 classes (0-9, A-Z, a-z)\n",
    "    \"\"\"\n",
    "    model = keras.Sequential([\n",
    "        # Input Layer\n",
    "        keras.Input(shape=input_shape),\n",
    "        \n",
    "        # Layer 1: Conv2D with 32 filters, 3x3 kernel, ReLU activation\n",
    "        layers.Conv2D(32, (3, 3), activation='relu', padding='valid', name='conv2d_1'),\n",
    "        \n",
    "        # Layer 2: MaxPooling2D with 2x2 pool size\n",
    "        layers.MaxPooling2D((2, 2), name='maxpool2d_1'),\n",
    "        \n",
    "        # Layer 3: Conv2D with 64 filters, 3x3 kernel, ReLU activation\n",
    "        layers.Conv2D(64, (3, 3), activation='relu', padding='valid', name='conv2d_2'),\n",
    "        \n",
    "        # Layer 4: MaxPooling2D with 2x2 pool size\n",
    "        layers.MaxPooling2D((2, 2), name='maxpool2d_2'),\n",
    "        \n",
    "        # Layer 5: Flatten layer (feature extractor)\n",
    "        layers.Flatten(name='flatten'),\n",
    "        \n",
    "        # Layer 6: Dense layer with 128 units, ReLU activation\n",
    "        layers.Dense(128, activation='relu', name='dense_1'),\n",
    "        \n",
    "        # Layer 7: Output Dense layer with 62 classes for alphanumeric characters\n",
    "        layers.Dense(num_classes, activation='softmax', name='output')\n",
    "    ])\n",
    "    \n",
    "    return model\n",
    "\n",
    "# Create the model with 62 classes\n",
    "cnn_model = create_cnn_model(input_shape=(28, 28, 1), num_classes=num_classes)\n",
    "\n",
    "# Display model architecture\n",
    "print(\"CNN Model Architecture for Extended Alphanumeric Dataset:\")\n",
    "print(f\"Number of classes: {num_classes}\")\n",
    "cnn_model.summary()\n",
    "\n",
    "# Show the class mapping\n",
    "print(f\"\\nClass Mapping:\")\n",
    "print(f\"0-9: Digits\")\n",
    "print(f\"10-35: Uppercase letters (A-Z)\")\n",
    "print(f\"Total classes: {num_classes}\")"
   ]
  },
  {
   "cell_type": "markdown",
   "id": "2b5db61b",
   "metadata": {
    "cellUniqueIdByVincent": "1cff3"
   },
   "source": [
    "## 5. CNN Training\n",
    "\n",
    "According to the requirements, we need to train the CNN with:\n",
    "- **Optimizer:** Adam\n",
    "- **Loss Function:** Categorical Cross-Entropy\n",
    "- **Training Parameters:** \n",
    "  - Epochs: 5-10 (adjustable based on convergence)\n",
    "  - Batch Size: 32\n",
    "  - Validation Split: 20% of training data\n",
    "- **Metrics:** Track accuracy during training and validation\n",
    "- **Visualization:** Plot training & validation accuracy and loss curves"
   ]
  },
  {
   "cell_type": "code",
   "execution_count": 6,
   "id": "b3881c37",
   "metadata": {
    "cellUniqueIdByVincent": "ae388"
   },
   "outputs": [
    {
     "name": "stdout",
     "output_type": "stream",
     "text": [
      "Model compiled successfully!\n",
      "Optimizer: Adam\n",
      "Loss Function: Categorical Cross-Entropy\n",
      "Metrics: Accuracy\n",
      "\n",
      "Starting CNN training...\n",
      "Epoch 1/20\n"
     ]
    },
    {
     "name": "stderr",
     "output_type": "stream",
     "text": [
      "WARNING: All log messages before absl::InitializeLog() is called are written to STDERR\n",
      "I0000 00:00:1748747840.360614   48474 service.cc:152] XLA service 0x7f14380099d0 initialized for platform CUDA (this does not guarantee that XLA will be used). Devices:\n",
      "I0000 00:00:1748747840.360654   48474 service.cc:160]   StreamExecutor device (0): NVIDIA GeForce RTX 3050 Laptop GPU, Compute Capability 8.6\n",
      "2025-06-01 06:17:20.399595: I tensorflow/compiler/mlir/tensorflow/utils/dump_mlir_util.cc:269] disabling MLIR crash reproducer, set env var `MLIR_CRASH_REPRODUCER_DIRECTORY` to enable.\n",
      "I0000 00:00:1748747840.545793   48474 cuda_dnn.cc:529] Loaded cuDNN version 90300\n"
     ]
    },
    {
     "name": "stdout",
     "output_type": "stream",
     "text": [
      "\u001b[1m  121/26700\u001b[0m \u001b[37m━━━━━━━━━━━━━━━━━━━━\u001b[0m \u001b[1m33s\u001b[0m 1ms/step - accuracy: 0.3299 - loss: 2.6816  "
     ]
    },
    {
     "name": "stderr",
     "output_type": "stream",
     "text": [
      "I0000 00:00:1748747842.956161   48474 device_compiler.h:188] Compiled cluster using XLA!  This line is logged at most once for the lifetime of the process.\n"
     ]
    },
    {
     "name": "stdout",
     "output_type": "stream",
     "text": [
      "\u001b[1m26700/26700\u001b[0m \u001b[32m━━━━━━━━━━━━━━━━━━━━\u001b[0m\u001b[37m\u001b[0m \u001b[1m43s\u001b[0m 2ms/step - accuracy: 0.8733 - loss: 0.3807 - val_accuracy: 0.9254 - val_loss: 0.1973\n",
      "Epoch 2/20\n",
      "\u001b[1m26700/26700\u001b[0m \u001b[32m━━━━━━━━━━━━━━━━━━━━\u001b[0m\u001b[37m\u001b[0m \u001b[1m37s\u001b[0m 1ms/step - accuracy: 0.9259 - loss: 0.1932 - val_accuracy: 0.9282 - val_loss: 0.1895\n",
      "Epoch 3/20\n",
      "\u001b[1m26700/26700\u001b[0m \u001b[32m━━━━━━━━━━━━━━━━━━━━\u001b[0m\u001b[37m\u001b[0m \u001b[1m37s\u001b[0m 1ms/step - accuracy: 0.9327 - loss: 0.1719 - val_accuracy: 0.9290 - val_loss: 0.1917\n",
      "Epoch 4/20\n",
      "\u001b[1m26700/26700\u001b[0m \u001b[32m━━━━━━━━━━━━━━━━━━━━\u001b[0m\u001b[37m\u001b[0m \u001b[1m36s\u001b[0m 1ms/step - accuracy: 0.9367 - loss: 0.1598 - val_accuracy: 0.9285 - val_loss: 0.2016\n",
      "Epoch 5/20\n",
      "\u001b[1m26700/26700\u001b[0m \u001b[32m━━━━━━━━━━━━━━━━━━━━\u001b[0m\u001b[37m\u001b[0m \u001b[1m36s\u001b[0m 1ms/step - accuracy: 0.9390 - loss: 0.1510 - val_accuracy: 0.9284 - val_loss: 0.2055\n",
      "Epoch 6/20\n",
      "\u001b[1m26700/26700\u001b[0m \u001b[32m━━━━━━━━━━━━━━━━━━━━\u001b[0m\u001b[37m\u001b[0m \u001b[1m37s\u001b[0m 1ms/step - accuracy: 0.9407 - loss: 0.1445 - val_accuracy: 0.9265 - val_loss: 0.2197\n",
      "Epoch 7/20\n",
      "\u001b[1m26700/26700\u001b[0m \u001b[32m━━━━━━━━━━━━━━━━━━━━\u001b[0m\u001b[37m\u001b[0m \u001b[1m37s\u001b[0m 1ms/step - accuracy: 0.9422 - loss: 0.1408 - val_accuracy: 0.9273 - val_loss: 0.2255\n",
      "Epoch 8/20\n",
      "\u001b[1m26700/26700\u001b[0m \u001b[32m━━━━━━━━━━━━━━━━━━━━\u001b[0m\u001b[37m\u001b[0m \u001b[1m36s\u001b[0m 1ms/step - accuracy: 0.9434 - loss: 0.1366 - val_accuracy: 0.9260 - val_loss: 0.2336\n",
      "Epoch 9/20\n",
      "\u001b[1m26700/26700\u001b[0m \u001b[32m━━━━━━━━━━━━━━━━━━━━\u001b[0m\u001b[37m\u001b[0m \u001b[1m36s\u001b[0m 1ms/step - accuracy: 0.9444 - loss: 0.1340 - val_accuracy: 0.9262 - val_loss: 0.2451\n",
      "Epoch 10/20\n",
      "\u001b[1m26700/26700\u001b[0m \u001b[32m━━━━━━━━━━━━━━━━━━━━\u001b[0m\u001b[37m\u001b[0m \u001b[1m37s\u001b[0m 1ms/step - accuracy: 0.9455 - loss: 0.1309 - val_accuracy: 0.9251 - val_loss: 0.2593\n",
      "Epoch 11/20\n",
      "\u001b[1m26700/26700\u001b[0m \u001b[32m━━━━━━━━━━━━━━━━━━━━\u001b[0m\u001b[37m\u001b[0m \u001b[1m37s\u001b[0m 1ms/step - accuracy: 0.9463 - loss: 0.1285 - val_accuracy: 0.9244 - val_loss: 0.2679\n",
      "Epoch 12/20\n",
      "\u001b[1m26700/26700\u001b[0m \u001b[32m━━━━━━━━━━━━━━━━━━━━\u001b[0m\u001b[37m\u001b[0m \u001b[1m37s\u001b[0m 1ms/step - accuracy: 0.9470 - loss: 0.1278 - val_accuracy: 0.9242 - val_loss: 0.2757\n",
      "Epoch 13/20\n",
      "\u001b[1m26700/26700\u001b[0m \u001b[32m━━━━━━━━━━━━━━━━━━━━\u001b[0m\u001b[37m\u001b[0m \u001b[1m37s\u001b[0m 1ms/step - accuracy: 0.9474 - loss: 0.1259 - val_accuracy: 0.9249 - val_loss: 0.2867\n",
      "Epoch 14/20\n",
      "\u001b[1m26700/26700\u001b[0m \u001b[32m━━━━━━━━━━━━━━━━━━━━\u001b[0m\u001b[37m\u001b[0m \u001b[1m37s\u001b[0m 1ms/step - accuracy: 0.9489 - loss: 0.1227 - val_accuracy: 0.9251 - val_loss: 0.2872\n",
      "Epoch 15/20\n",
      "\u001b[1m26700/26700\u001b[0m \u001b[32m━━━━━━━━━━━━━━━━━━━━\u001b[0m\u001b[37m\u001b[0m \u001b[1m37s\u001b[0m 1ms/step - accuracy: 0.9493 - loss: 0.1223 - val_accuracy: 0.9200 - val_loss: 0.3117\n",
      "Epoch 16/20\n",
      "\u001b[1m26700/26700\u001b[0m \u001b[32m━━━━━━━━━━━━━━━━━━━━\u001b[0m\u001b[37m\u001b[0m \u001b[1m39s\u001b[0m 1ms/step - accuracy: 0.9500 - loss: 0.1209 - val_accuracy: 0.9243 - val_loss: 0.3075\n",
      "Epoch 17/20\n",
      "\u001b[1m26700/26700\u001b[0m \u001b[32m━━━━━━━━━━━━━━━━━━━━\u001b[0m\u001b[37m\u001b[0m \u001b[1m39s\u001b[0m 1ms/step - accuracy: 0.9505 - loss: 0.1206 - val_accuracy: 0.9217 - val_loss: 0.3301\n",
      "Epoch 18/20\n",
      "\u001b[1m26700/26700\u001b[0m \u001b[32m━━━━━━━━━━━━━━━━━━━━\u001b[0m\u001b[37m\u001b[0m \u001b[1m39s\u001b[0m 1ms/step - accuracy: 0.9510 - loss: 0.1180 - val_accuracy: 0.9211 - val_loss: 0.3458\n",
      "Epoch 19/20\n",
      "\u001b[1m26700/26700\u001b[0m \u001b[32m━━━━━━━━━━━━━━━━━━━━\u001b[0m\u001b[37m\u001b[0m \u001b[1m39s\u001b[0m 1ms/step - accuracy: 0.9522 - loss: 0.1161 - val_accuracy: 0.9221 - val_loss: 0.3536\n",
      "Epoch 20/20\n",
      "\u001b[1m26700/26700\u001b[0m \u001b[32m━━━━━━━━━━━━━━━━━━━━\u001b[0m\u001b[37m\u001b[0m \u001b[1m39s\u001b[0m 1ms/step - accuracy: 0.9525 - loss: 0.1155 - val_accuracy: 0.9204 - val_loss: 0.3681\n",
      "\n",
      "CNN training completed!\n"
     ]
    }
   ],
   "source": [
    "# Compile the CNN model\n",
    "cnn_model.compile(\n",
    "    optimizer='adam',\n",
    "    loss='categorical_crossentropy',\n",
    "    metrics=['accuracy']\n",
    ")\n",
    "\n",
    "print(\"Model compiled successfully!\")\n",
    "print(\"Optimizer: Adam\")\n",
    "print(\"Loss Function: Categorical Cross-Entropy\")\n",
    "print(\"Metrics: Accuracy\")\n",
    "\n",
    "\n",
    "# Train the model\n",
    "print(\"\\nStarting CNN training...\")\n",
    "history = cnn_model.fit(\n",
    "    x_train_processed, y_train_processed,\n",
    "    batch_size=16,\n",
    "    epochs=20,\n",
    "    validation_split=0.2,\n",
    "    verbose=1\n",
    ")\n",
    "\n",
    "print(\"\\nCNN training completed!\")\n"
   ]
  },
  {
   "cell_type": "code",
   "execution_count": 7,
   "id": "eaa2b0a1",
   "metadata": {
    "cellUniqueIdByVincent": "c0bb9"
   },
   "outputs": [
    {
     "data": {
      "image/png": "[encoded data removed]",
      "text/plain": [
       "<Figure size 1500x500 with 2 Axes>"
      ]
     },
     "metadata": {},
     "output_type": "display_data"
    },
    {
     "name": "stdout",
     "output_type": "stream",
     "text": [
      "Final Training Results:\n",
      "Training Accuracy: 0.9526\n",
      "Validation Accuracy: 0.9204\n",
      "Training Loss: 0.1159\n",
      "Validation Loss: 0.3681\n"
     ]
    }
   ],
   "source": [
    "# Plot training history\n",
    "plt.figure(figsize=(15, 5))\n",
    "\n",
    "# Plot training & validation accuracy\n",
    "plt.subplot(1, 2, 1)\n",
    "plt.plot(history.history['accuracy'], label='Training Accuracy')\n",
    "plt.plot(history.history['val_accuracy'], label='Validation Accuracy')\n",
    "plt.title('Model Accuracy')\n",
    "plt.xlabel('Epoch')\n",
    "plt.ylabel('Accuracy')\n",
    "plt.legend()\n",
    "plt.grid(True, alpha=0.3)\n",
    "\n",
    "# Plot training & validation loss\n",
    "plt.subplot(1, 2, 2)\n",
    "plt.plot(history.history['loss'], label='Training Loss')\n",
    "plt.plot(history.history['val_loss'], label='Validation Loss')\n",
    "plt.title('Model Loss')\n",
    "plt.xlabel('Epoch')\n",
    "plt.ylabel('Loss')\n",
    "plt.legend()\n",
    "plt.grid(True, alpha=0.3)\n",
    "\n",
    "plt.tight_layout()\n",
    "plt.show()\n",
    "\n",
    "# Print final training results\n",
    "print(\"Final Training Results:\")\n",
    "print(f\"Training Accuracy: {history.history['accuracy'][-1]:.4f}\")\n",
    "print(f\"Validation Accuracy: {history.history['val_accuracy'][-1]:.4f}\")\n",
    "print(f\"Training Loss: {history.history['loss'][-1]:.4f}\")\n",
    "print(f\"Validation Loss: {history.history['val_loss'][-1]:.4f}\")"
   ]
  },
  {
   "cell_type": "markdown",
   "id": "1d8a004d",
   "metadata": {
    "cellUniqueIdByVincent": "2da10"
   },
   "source": [
    "## 8. Evaluation\n",
    "\n",
    "According to the requirements, we need to evaluate the performance of the hybrid system (CNN features + correlation classifier) on the test set and compare it with the standalone CNN performance.\n",
    "\n",
    "### Metrics:\n",
    "- **Accuracy:** (Number of correctly classified test images) / (Total number of test images)\n",
    "- **Error Rate:** E = 1 - Accuracy\n",
    "- **Comparison:** Report accuracy of both hybrid system and standalone CNN"
   ]
  },
  {
   "cell_type": "code",
   "execution_count": 8,
   "id": "69ade9fd",
   "metadata": {
    "cellUniqueIdByVincent": "8d483"
   },
   "outputs": [
    {
     "name": "stdout",
     "output_type": "stream",
     "text": [
      "Evaluating CNN on Test Set...\n",
      "==================================================\n",
      "\u001b[1m2790/2790\u001b[0m \u001b[32m━━━━━━━━━━━━━━━━━━━━\u001b[0m\u001b[37m\u001b[0m \u001b[1m3s\u001b[0m 752us/step\n",
      "\n",
      "Standalone CNN Results:\n",
      "Correct predictions: 82176/89263\n",
      "Accuracy: 0.9206 (92.06%)\n",
      "Error Rate: 0.0794 (7.94%)\n"
     ]
    }
   ],
   "source": [
    "# Evaluate Standalone CNN Performance\n",
    "print(\"Evaluating CNN on Test Set...\")\n",
    "print(\"=\" * 50)\n",
    "\n",
    "# Get CNN predictions on test set\n",
    "cnn_predictions = cnn_model.predict(x_test_processed, batch_size=32, verbose=1)\n",
    "cnn_predicted_classes = np.argmax(cnn_predictions, axis=1)\n",
    "\n",
    "# Calculate CNN metrics\n",
    "cnn_correct_predictions = np.sum(cnn_predicted_classes == y_test)\n",
    "cnn_accuracy = cnn_correct_predictions / len(y_test)\n",
    "cnn_error_rate = 1 - cnn_accuracy\n",
    "\n",
    "print(f\"\\nStandalone CNN Results:\")\n",
    "print(f\"Correct predictions: {cnn_correct_predictions}/{len(y_test)}\")\n",
    "print(f\"Accuracy: {cnn_accuracy:.4f} ({cnn_accuracy*100:.2f}%)\")\n",
    "print(f\"Error Rate: {cnn_error_rate:.4f} ({cnn_error_rate*100:.2f}%)\")\n"
   ]
  },
  {
   "cell_type": "code",
   "execution_count": null,
   "id": "9e36cbe3",
   "metadata": {
    "cellUniqueIdByVincent": "a1022"
   },
   "outputs": [
    {
     "name": "stdout",
     "output_type": "stream",
     "text": [
      "\n",
      "Per-Class Accuracy Analysis:\n",
      "==================================================\n",
      "Class 0, symbol 0: Accuracy=0.6109, Samples=5778\n",
      "Class 1, symbol 1: Accuracy=0.8376, Samples=6330\n",
      "Class 2, symbol 2: Accuracy=0.9131, Samples=5869\n",
      "Class 3, symbol 3: Accuracy=0.9886, Samples=5969\n",
      "Class 4, symbol 4: Accuracy=0.9464, Samples=5619\n",
      "Class 5, symbol 5: Accuracy=0.9262, Samples=5190\n",
      "Class 6, symbol 6: Accuracy=0.9800, Samples=5705\n",
      "Class 7, symbol 7: Accuracy=0.9910, Samples=6139\n",
      "Class 8, symbol 8: Accuracy=0.9483, Samples=5633\n",
      "Class 9, symbol 9: Accuracy=0.9773, Samples=5686\n",
      "Class 10, symbol A: Accuracy=0.9322, Samples=1062\n",
      "Class 11, symbol B: Accuracy=0.8966, Samples=648\n",
      "Class 12, symbol C: Accuracy=0.9845, Samples=1739\n",
      "Class 13, symbol D: Accuracy=0.8922, Samples=779\n",
      "Class 14, symbol E: Accuracy=0.9542, Samples=851\n",
      "Class 15, symbol F: Accuracy=0.9708, Samples=1440\n",
      "Class 16, symbol G: Accuracy=0.8456, Samples=447\n",
      "Class 17, symbol H: Accuracy=0.9117, Samples=521\n",
      "Class 18, symbol I: Accuracy=0.6698, Samples=2047\n",
      "Class 19, symbol J: Accuracy=0.9441, Samples=626\n",
      "Class 20, symbol K: Accuracy=0.9450, Samples=382\n",
      "Class 21, symbol L: Accuracy=0.9531, Samples=810\n",
      "Class 22, symbol M: Accuracy=0.9879, Samples=1485\n",
      "Class 23, symbol N: Accuracy=0.9541, Samples=1351\n",
      "Class 24, symbol O: Accuracy=0.7028, Samples=4156\n",
      "Class 25, symbol P: Accuracy=0.9635, Samples=1397\n",
      "Class 26, symbol Q: Accuracy=0.8983, Samples=413\n",
      "Class 27, symbol R: Accuracy=0.8937, Samples=809\n",
      "Class 28, symbol S: Accuracy=0.9151, Samples=3508\n",
      "Class 29, symbol T: Accuracy=0.9810, Samples=1576\n",
      "Class 30, symbol U: Accuracy=0.9366, Samples=2002\n",
      "Class 31, symbol V: Accuracy=0.9095, Samples=796\n",
      "Class 32, symbol W: Accuracy=0.9653, Samples=806\n",
      "Class 33, symbol X: Accuracy=0.9352, Samples=432\n",
      "Class 34, symbol Y: Accuracy=0.9449, Samples=798\n",
      "Class 35, symbol Z: Accuracy=0.9052, Samples=464\n"
     ]
    }
   ],
   "source": [
    "'''# Additional Analysis: Confusion Matrices\n",
    "print(\"Generating Confusion Matrices...\")\n",
    "\n",
    "# Create confusion matrices for both methods\n",
    "from sklearn.metrics import confusion_matrix, classification_report\n",
    "\n",
    "# CNN Confusion Matrix\n",
    "cnn_cm = confusion_matrix(y_test, cnn_predicted_classes)\n",
    "\n",
    "# Plot confusion matrix\n",
    "plt.figure(figsize=(15, 6))\n",
    "\n",
    "# CNN Confusion Matrix\n",
    "plt.subplot(1, 2, 1)\n",
    "sns.heatmap(cnn_cm, annot=True, fmt='d', cmap='Blues', \n",
    "            xticklabels=range(10), yticklabels=range(10))\n",
    "plt.title(f'CNN Confusion Matrix\\nAccuracy: {cnn_accuracy:.4f}')\n",
    "plt.xlabel('Predicted Label')\n",
    "plt.ylabel('True Label')\n",
    "\n",
    "\n",
    "plt.show()\n",
    "'''\n",
    "# Per-class accuracy analysis\n",
    "print(\"\\nPer-Class Accuracy Analysis:\")\n",
    "print(\"=\" * 50)\n",
    "\n",
    "for class_id in range(num_classes):\n",
    "    class_mask = (y_test == class_id)\n",
    "    total_samples = np.sum(class_mask)\n",
    "    \n",
    "    # CNN accuracy for this class\n",
    "    cnn_correct = np.sum((cnn_predicted_classes == class_id) & class_mask)\n",
    "    cnn_class_acc = cnn_correct / total_samples if total_samples > 0 else 0\n",
    "    \n",
    "    # Hybrid accuracy for this class\n",
    "    \n",
    "    print(f\"Class {class_id}, symbol {class_names[class_id]}: Accuracy={cnn_class_acc:.4f}, Samples={total_samples}\")"
   ]
  },
  {
   "cell_type": "markdown",
   "metadata": {
    "cellUniqueIdByVincent": "b59af"
   },
   "source": [
    "### Visual similarities:\n",
    "\n",
    "- O and '0' and Q and G\n",
    "- Z and '2'\n",
    "- S and '5'\n",
    "- I and '1'\n",
    "- B and '8'\n",
    "\n",
    "### Weak points:\n",
    "\n",
    "- '0' (Digit Zero): 61.09%\n",
    "- 'I' (Letter I): 66.98%\n",
    "- 'O' (Letter O): 70.28%\n",
    "- '1' (Digit One): 83.76%\n",
    "- 'G' (Letter G): 84.56%"
   ]
  },
  {
   "cell_type": "code",
   "execution_count": 10,
   "metadata": {
    "cellUniqueIdByVincent": "3f711"
   },
   "outputs": [
    {
     "name": "stderr",
     "output_type": "stream",
     "text": [
      "WARNING:absl:You are saving your model as an HDF5 file via `model.save()` or `keras.saving.save_model(model)`. This file format is considered legacy. We recommend using instead the native Keras format, e.g. `model.save('my_model.keras')` or `keras.saving.save_model(model, 'my_model.keras')`. \n"
     ]
    },
    {
     "name": "stdout",
     "output_type": "stream",
     "text": [
      "Saving CNN Model...\n",
      "==================================================\n",
      "✅ Complete model saved to: saved_models/cnn_alphanumeric_model_20250601_062953.h5\n"
     ]
    }
   ],
   "source": [
    "# Save the trained CNN model for later usage\n",
    "import os\n",
    "from datetime import datetime\n",
    "\n",
    "print(\"Saving CNN Model...\")\n",
    "print(\"=\" * 50)\n",
    "\n",
    "# Create a models directory if it doesn't exist\n",
    "models_dir = \"saved_models\"\n",
    "if not os.path.exists(models_dir):\n",
    "    os.makedirs(models_dir)\n",
    "    print(f\"Created directory: {models_dir}\")\n",
    "\n",
    "# Generate timestamp for unique model naming\n",
    "timestamp = datetime.now().strftime(\"%Y%m%d_%H%M%S\")\n",
    "model_name = f\"cnn_alphanumeric_model_{timestamp}\"\n",
    "\n",
    "# Method 1: Save the entire model (recommended)\n",
    "model_path = os.path.join(models_dir, f\"{model_name}.h5\")\n",
    "cnn_model.save(model_path)\n",
    "print(f\"✅ Complete model saved to: {model_path}\")"
   ]
  },
  {
   "cell_type": "markdown",
   "metadata": {
    "cellUniqueIdByVincent": "f619b"
   },
   "source": [
    "## 9. Trying to balance classes"
   ]
  },
  {
   "cell_type": "code",
   "execution_count": 11,
   "metadata": {
    "cellUniqueIdByVincent": "a1c60"
   },
   "outputs": [
    {
     "name": "stdout",
     "output_type": "stream",
     "text": [
      "Creating stratified train-validation split...\n",
      "==================================================\n",
      "Original class distribution:\n",
      "Class 0: 34585 samples (6.48%)\n",
      "Class 1: 38374 samples (7.19%)\n",
      "Class 2: 34203 samples (6.41%)\n",
      "Class 3: 35143 samples (6.58%)\n",
      "Class 4: 33535 samples (6.28%)\n",
      "Class 5: 31416 samples (5.88%)\n",
      "Class 6: 34232 samples (6.41%)\n",
      "Class 7: 35754 samples (6.70%)\n",
      "Class 8: 33946 samples (6.36%)\n",
      "Class 9: 33847 samples (6.34%)\n",
      "Class 10: 6407 samples (1.20%)\n",
      "Class 11: 3878 samples (0.73%)\n",
      "Class 12: 10094 samples (1.89%)\n",
      "Class 13: 4562 samples (0.85%)\n",
      "Class 14: 4934 samples (0.92%)\n",
      "Class 15: 9182 samples (1.72%)\n",
      "Class 16: 2517 samples (0.47%)\n",
      "Class 17: 3152 samples (0.59%)\n",
      "Class 18: 11946 samples (2.24%)\n",
      "Class 19: 3762 samples (0.70%)\n",
      "Class 20: 2468 samples (0.46%)\n",
      "Class 21: 5076 samples (0.95%)\n",
      "Class 22: 9002 samples (1.69%)\n",
      "Class 23: 8237 samples (1.54%)\n",
      "Class 24: 24983 samples (4.68%)\n",
      "Class 25: 8347 samples (1.56%)\n",
      "Class 26: 2605 samples (0.49%)\n",
      "Class 27: 5073 samples (0.95%)\n",
      "Class 28: 20764 samples (3.89%)\n",
      "Class 29: 9820 samples (1.84%)\n",
      "Class 30: 12602 samples (2.36%)\n",
      "Class 31: 4637 samples (0.87%)\n",
      "Class 32: 4695 samples (0.88%)\n",
      "Class 33: 2771 samples (0.52%)\n",
      "Class 34: 4743 samples (0.89%)\n",
      "Class 35: 2700 samples (0.51%)\n",
      "\n",
      "After stratified split:\n",
      "Training set: 427193 samples\n",
      "Validation set: 106799 samples\n",
      "\n",
      "Class distribution verification:\n",
      "Class 0: Train=6.5%, Val=6.5%\n",
      "Class 1: Train=7.2%, Val=7.2%\n",
      "Class 2: Train=6.4%, Val=6.4%\n",
      "Class 3: Train=6.6%, Val=6.6%\n",
      "Class 4: Train=6.3%, Val=6.3%\n",
      "Class 5: Train=5.9%, Val=5.9%\n",
      "Class 6: Train=6.4%, Val=6.4%\n",
      "Class 7: Train=6.7%, Val=6.7%\n",
      "Class 8: Train=6.4%, Val=6.4%\n",
      "Class 9: Train=6.3%, Val=6.3%\n",
      "Class 10: Train=1.2%, Val=1.2%\n",
      "Class 11: Train=0.7%, Val=0.7%\n",
      "Class 12: Train=1.9%, Val=1.9%\n",
      "Class 13: Train=0.9%, Val=0.9%\n",
      "Class 14: Train=0.9%, Val=0.9%\n",
      "Class 15: Train=1.7%, Val=1.7%\n",
      "Class 16: Train=0.5%, Val=0.5%\n",
      "Class 17: Train=0.6%, Val=0.6%\n",
      "Class 18: Train=2.2%, Val=2.2%\n",
      "Class 19: Train=0.7%, Val=0.7%\n",
      "Class 20: Train=0.5%, Val=0.5%\n",
      "Class 21: Train=1.0%, Val=1.0%\n",
      "Class 22: Train=1.7%, Val=1.7%\n",
      "Class 23: Train=1.5%, Val=1.5%\n",
      "Class 24: Train=4.7%, Val=4.7%\n",
      "Class 25: Train=1.6%, Val=1.6%\n",
      "Class 26: Train=0.5%, Val=0.5%\n",
      "Class 27: Train=0.9%, Val=1.0%\n",
      "Class 28: Train=3.9%, Val=3.9%\n",
      "Class 29: Train=1.8%, Val=1.8%\n",
      "Class 30: Train=2.4%, Val=2.4%\n",
      "Class 31: Train=0.9%, Val=0.9%\n",
      "Class 32: Train=0.9%, Val=0.9%\n",
      "Class 33: Train=0.5%, Val=0.5%\n",
      "Class 34: Train=0.9%, Val=0.9%\n",
      "Class 35: Train=0.5%, Val=0.5%\n"
     ]
    }
   ],
   "source": [
    "# Stratified sampling for train-validation split\n",
    "from sklearn.model_selection import train_test_split\n",
    "\n",
    "def create_stratified_split(x_data, y_data, test_size=0.2, random_state=42):\n",
    "    \"\"\"\n",
    "    Create stratified train-validation split ensuring balanced class distribution\n",
    "    \"\"\"\n",
    "    print(\"Creating stratified train-validation split...\")\n",
    "    print(\"=\" * 50)\n",
    "    \n",
    "    # Analyze class distribution before split\n",
    "    unique_classes, class_counts = np.unique(y_data, return_counts=True)\n",
    "    print(f\"Original class distribution:\")\n",
    "    for cls, count in zip(unique_classes, class_counts):\n",
    "        print(f\"Class {cls}: {count} samples ({count/len(y_data)*100:.2f}%)\")\n",
    "    \n",
    "    # Perform stratified split\n",
    "    x_train_split, x_val_split, y_train_split, y_val_split = train_test_split(\n",
    "        x_data, y_data, \n",
    "        test_size=test_size, \n",
    "        stratify=y_data,  # This ensures balanced distribution\n",
    "        random_state=random_state\n",
    "    )\n",
    "    \n",
    "    print(f\"\\nAfter stratified split:\")\n",
    "    print(f\"Training set: {x_train_split.shape[0]} samples\")\n",
    "    print(f\"Validation set: {x_val_split.shape[0]} samples\")\n",
    "    \n",
    "    # Verify stratification worked\n",
    "    _, train_counts = np.unique(y_train_split, return_counts=True)\n",
    "    _, val_counts = np.unique(y_val_split, return_counts=True)\n",
    "    \n",
    "    print(f\"\\nClass distribution verification:\")\n",
    "    for i, (cls, orig_count, train_count, val_count) in enumerate(zip(unique_classes, class_counts, train_counts, val_counts)):\n",
    "        train_pct = train_count / len(y_train_split) * 100\n",
    "        val_pct = val_count / len(y_val_split) * 100\n",
    "        print(f\"Class {cls}: Train={train_pct:.1f}%, Val={val_pct:.1f}%\")\n",
    "    \n",
    "    return x_train_split, x_val_split, y_train_split, y_val_split\n",
    "\n",
    "# Apply stratified split to your data\n",
    "x_train_stratified, x_val_stratified, y_train_stratified, y_val_stratified = create_stratified_split(\n",
    "    x_train_processed.reshape(x_train_processed.shape[0], -1),  # Flatten for sklearn\n",
    "    y_train,\n",
    "    test_size=0.2\n",
    ")\n",
    "\n",
    "# Reshape back for CNN\n",
    "x_train_stratified = x_train_stratified.reshape(-1, 28, 28, 1)\n",
    "x_val_stratified = x_val_stratified.reshape(-1, 28, 28, 1)\n",
    "\n",
    "# Convert to one-hot encoding\n",
    "y_train_stratified_onehot = keras.utils.to_categorical(y_train_stratified, num_classes)\n",
    "y_val_stratified_onehot = keras.utils.to_categorical(y_val_stratified, num_classes)"
   ]
  },
  {
   "cell_type": "code",
   "execution_count": 12,
   "metadata": {
    "cellUniqueIdByVincent": "799c9"
   },
   "outputs": [
    {
     "name": "stdout",
     "output_type": "stream",
     "text": [
      "Calculating class weights for imbalanced dataset...\n",
      "Class weights calculated:\n",
      "Class 0: weight = 0.4289\n",
      "Class 1: weight = 0.3865\n",
      "Class 2: weight = 0.4337\n",
      "Class 3: weight = 0.4221\n",
      "Class 4: weight = 0.4423\n",
      "Class 5: weight = 0.4722\n",
      "Class 6: weight = 0.4333\n",
      "Class 7: weight = 0.4149\n",
      "Class 8: weight = 0.4370\n",
      "Class 9: weight = 0.4382\n",
      "Class 10: weight = 2.3151\n",
      "Class 11: weight = 3.8249\n",
      "Class 12: weight = 1.4695\n",
      "Class 13: weight = 3.2514\n",
      "Class 14: weight = 3.0063\n",
      "Class 15: weight = 1.6155\n",
      "Class 16: weight = 5.8932\n",
      "Class 17: weight = 4.7059\n",
      "Class 18: weight = 1.2417\n",
      "Class 19: weight = 3.9429\n",
      "Class 20: weight = 6.0102\n",
      "Class 21: weight = 2.9222\n",
      "Class 22: weight = 1.6478\n",
      "Class 23: weight = 1.8008\n",
      "Class 24: weight = 0.5937\n",
      "Class 25: weight = 1.7771\n",
      "Class 26: weight = 5.6941\n",
      "Class 27: weight = 2.9239\n",
      "Class 28: weight = 0.7144\n",
      "Class 29: weight = 1.5105\n",
      "Class 30: weight = 1.1770\n",
      "Class 31: weight = 3.1989\n",
      "Class 32: weight = 3.1593\n",
      "Class 33: weight = 5.3530\n",
      "Class 34: weight = 3.1274\n",
      "Class 35: weight = 5.4937\n",
      "\n",
      "Training CNN with class weights...\n",
      "Epoch 1/10\n",
      "\u001b[1m26700/26700\u001b[0m \u001b[32m━━━━━━━━━━━━━━━━━━━━\u001b[0m\u001b[37m\u001b[0m \u001b[1m44s\u001b[0m 2ms/step - accuracy: 0.9258 - loss: 0.1953 - val_accuracy: 0.9257 - val_loss: 0.1997\n",
      "Epoch 2/10\n",
      "\u001b[1m26700/26700\u001b[0m \u001b[32m━━━━━━━━━━━━━━━━━━━━\u001b[0m\u001b[37m\u001b[0m \u001b[1m41s\u001b[0m 2ms/step - accuracy: 0.9267 - loss: 0.1516 - val_accuracy: 0.9286 - val_loss: 0.1995\n",
      "Epoch 3/10\n",
      "\u001b[1m26700/26700\u001b[0m \u001b[32m━━━━━━━━━━━━━━━━━━━━\u001b[0m\u001b[37m\u001b[0m \u001b[1m41s\u001b[0m 2ms/step - accuracy: 0.9258 - loss: 0.1487 - val_accuracy: 0.9263 - val_loss: 0.2105\n",
      "Epoch 4/10\n",
      "\u001b[1m26700/26700\u001b[0m \u001b[32m━━━━━━━━━━━━━━━━━━━━\u001b[0m\u001b[37m\u001b[0m \u001b[1m41s\u001b[0m 2ms/step - accuracy: 0.9244 - loss: 0.1496 - val_accuracy: 0.9233 - val_loss: 0.2164\n",
      "Epoch 5/10\n",
      "\u001b[1m26700/26700\u001b[0m \u001b[32m━━━━━━━━━━━━━━━━━━━━\u001b[0m\u001b[37m\u001b[0m \u001b[1m40s\u001b[0m 1ms/step - accuracy: 0.9243 - loss: 0.1491 - val_accuracy: 0.9255 - val_loss: 0.2188\n",
      "Epoch 6/10\n",
      "\u001b[1m26700/26700\u001b[0m \u001b[32m━━━━━━━━━━━━━━━━━━━━\u001b[0m\u001b[37m\u001b[0m \u001b[1m40s\u001b[0m 1ms/step - accuracy: 0.9242 - loss: 0.1471 - val_accuracy: 0.9176 - val_loss: 0.2509\n",
      "Epoch 7/10\n",
      "\u001b[1m26700/26700\u001b[0m \u001b[32m━━━━━━━━━━━━━━━━━━━━\u001b[0m\u001b[37m\u001b[0m \u001b[1m40s\u001b[0m 1ms/step - accuracy: 0.9228 - loss: 0.1536 - val_accuracy: 0.9198 - val_loss: 0.2659\n",
      "Epoch 8/10\n",
      "\u001b[1m26700/26700\u001b[0m \u001b[32m━━━━━━━━━━━━━━━━━━━━\u001b[0m\u001b[37m\u001b[0m \u001b[1m40s\u001b[0m 1ms/step - accuracy: 0.9217 - loss: 0.1534 - val_accuracy: 0.9192 - val_loss: 0.2513\n",
      "Epoch 9/10\n",
      "\u001b[1m26700/26700\u001b[0m \u001b[32m━━━━━━━━━━━━━━━━━━━━\u001b[0m\u001b[37m\u001b[0m \u001b[1m40s\u001b[0m 1ms/step - accuracy: 0.9220 - loss: 0.1579 - val_accuracy: 0.9120 - val_loss: 0.2924\n",
      "Epoch 10/10\n",
      "\u001b[1m26700/26700\u001b[0m \u001b[32m━━━━━━━━━━━━━━━━━━━━\u001b[0m\u001b[37m\u001b[0m \u001b[1m40s\u001b[0m 1ms/step - accuracy: 0.9190 - loss: 0.1646 - val_accuracy: 0.9093 - val_loss: 0.3095\n"
     ]
    }
   ],
   "source": [
    "# Calculate class weights to handle imbalance during training\n",
    "from sklearn.utils.class_weight import compute_class_weight\n",
    "\n",
    "def calculate_class_weights(y_labels):\n",
    "    \"\"\"\n",
    "    Calculate class weights to balance the loss function\n",
    "    \"\"\"\n",
    "    print(\"Calculating class weights for imbalanced dataset...\")\n",
    "    \n",
    "    # Get unique classes and their counts\n",
    "    unique_classes = np.unique(y_labels)\n",
    "    \n",
    "    # Compute class weights using sklearn\n",
    "    class_weights = compute_class_weight(\n",
    "        class_weight='balanced',\n",
    "        classes=unique_classes,\n",
    "        y=y_labels\n",
    "    )\n",
    "    \n",
    "    # Create dictionary mapping class_id -> weight\n",
    "    class_weight_dict = dict(zip(unique_classes, class_weights))\n",
    "    \n",
    "    print(f\"Class weights calculated:\")\n",
    "    for cls, weight in class_weight_dict.items():\n",
    "        print(f\"Class {cls}: weight = {weight:.4f}\")\n",
    "    \n",
    "    return class_weight_dict\n",
    "\n",
    "# Calculate class weights\n",
    "class_weights = calculate_class_weights(y_train)\n",
    "\n",
    "balanced_cnn = cnn_model\n",
    "# Compile the model again with class weights\n",
    "balanced_cnn.compile(\n",
    "    optimizer='adam',\n",
    "    loss='categorical_crossentropy',\n",
    "    metrics=['accuracy']\n",
    ")\n",
    "\n",
    "# Train the model with class weights\n",
    "print(\"\\nTraining CNN with class weights...\")\n",
    "history_weighted = balanced_cnn.fit(\n",
    "    x_train_stratified, y_train_stratified_onehot,\n",
    "    validation_data=(x_val_stratified, y_val_stratified_onehot),\n",
    "    batch_size=16,\n",
    "    epochs=10,\n",
    "    class_weight=class_weights,  # Apply class weights\n",
    "    verbose=1\n",
    ")"
   ]
  },
  {
   "cell_type": "code",
   "execution_count": 14,
   "metadata": {
    "cellUniqueIdByVincent": "9dc76"
   },
   "outputs": [
    {
     "name": "stdout",
     "output_type": "stream",
     "text": [
      "Evaluating Balanced CNN on Test Set...\n",
      "==================================================\n",
      "\u001b[1m2790/2790\u001b[0m \u001b[32m━━━━━━━━━━━━━━━━━━━━\u001b[0m\u001b[37m\u001b[0m \u001b[1m2s\u001b[0m 717us/step\n",
      "\n",
      "Standalone CNN Results:\n",
      "Correct predictions: 80755/89263\n",
      "Accuracy: 0.9047 (90.47%)\n",
      "Error Rate: 0.0953 (9.53%)\n"
     ]
    }
   ],
   "source": [
    "# Evaluate Standalone CNN Performance\n",
    "print(\"Evaluating Balanced CNN on Test Set...\")\n",
    "print(\"=\" * 50)\n",
    "\n",
    "# Get CNN predictions on test set\n",
    "cnn_predictions = balanced_cnn.predict(x_test_processed, batch_size=32, verbose=1)\n",
    "cnn_predicted_classes = np.argmax(cnn_predictions, axis=1)\n",
    "\n",
    "# Calculate CNN metrics\n",
    "cnn_correct_predictions = np.sum(cnn_predicted_classes == y_test)\n",
    "cnn_accuracy = cnn_correct_predictions / len(y_test)\n",
    "cnn_error_rate = 1 - cnn_accuracy\n",
    "\n",
    "print(f\"\\nStandalone CNN Results:\")\n",
    "print(f\"Correct predictions: {cnn_correct_predictions}/{len(y_test)}\")\n",
    "print(f\"Accuracy: {cnn_accuracy:.4f} ({cnn_accuracy*100:.2f}%)\")\n",
    "print(f\"Error Rate: {cnn_error_rate:.4f} ({cnn_error_rate*100:.2f}%)\")\n"
   ]
  }
 ],
 "metadata": {
  "checkpoint": {
   "checkpointId": "notebookcheckpoint_141",
   "eventId": 141,
   "timestamp": 1748740044563
  },
  "kernelspec": {
   "display_name": "tensorflow-gpu",
   "language": "python",
   "name": "python3"
  },
  "language_info": {
   "codemirror_mode": {
    "name": "ipython",
    "version": 3
   },
   "file_extension": ".py",
   "mimetype": "text/x-python",
   "name": "python",
   "nbconvert_exporter": "python",
   "pygments_lexer": "ipython3",
   "version": "3.10.16"
  },
  "vincent": {
   "sessionId": "23409a0923c524453f10e6f0_2025-06-01T00-11-13-359Z"
  }
 },
 "nbformat": 4,
 "nbformat_minor": 5
}
